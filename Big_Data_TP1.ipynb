{
  "cells": [
    {
      "cell_type": "code",
      "execution_count": null,
      "metadata": {
        "colab": {
          "base_uri": "https://localhost:8080/"
        },
        "id": "ghy3azTjdujk",
        "outputId": "2913ae3d-10dc-4c66-cd20-0ef3e226e8d2"
      },
      "outputs": [
        {
          "output_type": "stream",
          "name": "stdout",
          "text": [
            "Collecting pyspark==3.2.1\n",
            "  Downloading pyspark-3.2.1.tar.gz (281.4 MB)\n",
            "\u001b[2K     \u001b[90m━━━━━━━━━━━━━━━━━━━━━━━━━━━━━━━━━━━━━━━━\u001b[0m \u001b[32m281.4/281.4 MB\u001b[0m \u001b[31m4.7 MB/s\u001b[0m eta \u001b[36m0:00:00\u001b[0m\n",
            "\u001b[?25h  Preparing metadata (setup.py) ... \u001b[?25l\u001b[?25hdone\n",
            "Collecting py4j==0.10.9.3 (from pyspark==3.2.1)\n",
            "  Downloading py4j-0.10.9.3-py2.py3-none-any.whl.metadata (1.4 kB)\n",
            "Downloading py4j-0.10.9.3-py2.py3-none-any.whl (198 kB)\n",
            "\u001b[2K   \u001b[90m━━━━━━━━━━━━━━━━━━━━━━━━━━━━━━━━━━━━━━━━\u001b[0m \u001b[32m199.0/199.0 kB\u001b[0m \u001b[31m14.7 MB/s\u001b[0m eta \u001b[36m0:00:00\u001b[0m\n",
            "\u001b[?25hBuilding wheels for collected packages: pyspark\n",
            "  Building wheel for pyspark (setup.py) ... \u001b[?25l\u001b[?25hdone\n",
            "  Created wheel for pyspark: filename=pyspark-3.2.1-py2.py3-none-any.whl size=281853623 sha256=3cbe43af587aa3b91c5c6f6442ef183ee02337b70dab99e02e2c247f1fd4e829\n",
            "  Stored in directory: /root/.cache/pip/wheels/15/97/bd/52908574a60b5f8e3dc4dc5a0b5be8a59ac20986ee51c2611b\n",
            "Successfully built pyspark\n",
            "Installing collected packages: py4j, pyspark\n",
            "  Attempting uninstall: py4j\n",
            "    Found existing installation: py4j 0.10.9.7\n",
            "    Uninstalling py4j-0.10.9.7:\n",
            "      Successfully uninstalled py4j-0.10.9.7\n",
            "Successfully installed py4j-0.10.9.3 pyspark-3.2.1\n"
          ]
        }
      ],
      "source": [
        "# install Java8\n",
        "!apt-get install openjdk-8-jdk-headless -qq > /dev/null\n",
        "# download spark3.2.1\n",
        "!wget -q https://archive.apache.org/dist/spark/spark-3.2.1/spark-3.2.1-bin-hadoop3.2.tgz\n",
        "# unzip it\n",
        "!tar xf spark-3.2.1-bin-hadoop3.2.tgz\n",
        "#install findshark\n",
        "!pip install -q findspark\n",
        "import os\n",
        "os.environ[\"JAVA_HOME\"] = \"/usr/lib/jvm/java-8-openjdk-amd64\"\n",
        "os.environ[\"SPARK_HOME\"] = \"/content/spark-3.2.1-bin-hadoop3.2\"\n",
        "import sys\n",
        "!pip install pyspark==3.2.1"
      ]
    },
    {
      "cell_type": "code",
      "execution_count": null,
      "metadata": {
        "id": "mrfykiWJfGJT"
      },
      "outputs": [],
      "source": [
        "#import pyshark\n",
        "from pyspark.sql import SparkSession\n",
        "from pyspark.conf import SparkConf\n",
        "from pyspark.sql.functions import *\n",
        "#print(puspark._version_)\n",
        "\n",
        "spark = SparkSession.builder.master(\"local[*]\").appName(\"TestAnalytics\").getOrCreate()\n",
        "sc=spark.sparkContext"
      ]
    },
    {
      "cell_type": "code",
      "execution_count": null,
      "metadata": {
        "colab": {
          "base_uri": "https://localhost:8080/"
        },
        "id": "mlnEHMofkJE7",
        "outputId": "3bcb290f-d2ed-4d20-a041-ae33323a012c"
      },
      "outputs": [
        {
          "output_type": "execute_result",
          "data": {
            "text/plain": [
              "['The Project Gutenberg eBook of King Richard II',\n",
              " '    ',\n",
              " 'This ebook is for the use of anyone anywhere in the United States and',\n",
              " 'most other parts of the world at no cost and with almost no restrictions',\n",
              " 'whatsoever. You may copy it, give it away or re-use it under the terms',\n",
              " 'of the Project Gutenberg License included with this ebook or online',\n",
              " 'at www.gutenberg.org. If you are not located in the United States,',\n",
              " 'you will have to check the laws of the country where you are located',\n",
              " 'before using this eBook.',\n",
              " '',\n",
              " 'Title: King Richard II',\n",
              " '',\n",
              " 'Author: William Shakespeare',\n",
              " '',\n",
              " 'Release date: June 1, 1999 [eBook #1776]',\n",
              " '                Most recently updated: April 2, 2015',\n",
              " '',\n",
              " 'Language: English',\n",
              " '',\n",
              " '',\n",
              " '',\n",
              " '*** START OF THE PROJECT GUTENBERG EBOOK KING RICHARD II ***',\n",
              " '',\n",
              " 'This Etext file is presented by Project Gutenberg, in',\n",
              " 'cooperation with World Library, Inc., from their Library of the',\n",
              " 'Future and Shakespeare CDROMS.  Project Gutenberg often releases',\n",
              " 'Etexts that are NOT placed in the Public Domain!!',\n",
              " '',\n",
              " '*This Etext has certain copyright implications you should read!*',\n",
              " '',\n",
              " '<<THIS ELECTRONIC VERSION OF THE COMPLETE WORKS OF WILLIAM',\n",
              " 'SHAKESPEARE IS COPYRIGHT 1990-1993 BY WORLD LIBRARY, INC., AND IS',\n",
              " 'PROVIDED BY PROJECT GUTENBERG WITH PERMISSION.  ELECTRONIC AND',\n",
              " 'MACHINE READABLE COPIES MAY BE DISTRIBUTED SO LONG AS SUCH COPIES',\n",
              " '(1) ARE FOR YOUR OR OTHERS PERSONAL USE ONLY, AND (2) ARE NOT',\n",
              " 'DISTRIBUTED OR USED COMMERCIALLY.  PROHIBITED COMMERCIAL',\n",
              " 'DISTRIBUTION INCLUDES BY ANY SERVICE THAT CHARGES FOR DOWNLOAD',\n",
              " 'TIME OR FOR MEMBERSHIP.>>',\n",
              " '',\n",
              " '*Project Gutenberg is proud to cooperate with The World Library*',\n",
              " 'in the presentation of The Complete Works of William Shakespeare',\n",
              " 'for your reading for education and entertainment.  HOWEVER, THIS',\n",
              " 'IS NEITHER SHAREWARE NOR PUBLIC DOMAIN. . .AND UNDER THE LIBRARY',\n",
              " 'OF THE FUTURE CONDITIONS OF THIS PRESENTATION. . .NO CHARGES MAY',\n",
              " 'BE MADE FOR *ANY* ACCESS TO THIS MATERIAL.  YOU ARE ENCOURAGED!!',\n",
              " 'TO GIVE IT AWAY TO ANYONE YOU LIKE, BUT NO CHARGES ARE ALLOWED!!',\n",
              " '',\n",
              " '',\n",
              " '**Welcome To The World of Free Plain Vanilla Electronic Texts**',\n",
              " '',\n",
              " '**Etexts Readable By Both Humans and By Computers, Since 1971**',\n",
              " '',\n",
              " '*These Etexts Prepared By Hundreds of Volunteers and Donations*',\n",
              " '',\n",
              " 'Information on contacting Project Gutenberg to get Etexts, and',\n",
              " 'further information is included below.  We need your donations.',\n",
              " '',\n",
              " '',\n",
              " 'The Complete Works of William Shakespeare',\n",
              " 'King Richard the Second',\n",
              " '',\n",
              " 'June, 1999 [Etext #1776]',\n",
              " '',\n",
              " '',\n",
              " 'The Library of the Future Complete Works of William Shakespeare',\n",
              " 'Library of the Future is a TradeMark (TM) of World Library Inc.',\n",
              " '******This file should be named 1776.txt or 1776.zip*****',\n",
              " '',\n",
              " '',\n",
              " 'The official release date of all Project Gutenberg Etexts is at',\n",
              " 'Midnight, Central Time, of the last day of the stated month.  A',\n",
              " 'preliminary version may often be posted for suggestion, comment',\n",
              " 'and editing by those who wish to do so.  To be sure you have an',\n",
              " 'up to date first edition [xxxxx10x.xxx] please check file sizes',\n",
              " 'in the first week of the next month.',\n",
              " '',\n",
              " '',\n",
              " 'Information about Project Gutenberg (one page)',\n",
              " '',\n",
              " 'We produce about two million dollars for each hour we work.  The',\n",
              " 'fifty hours is one conservative estimate for how long it we take',\n",
              " 'to get any etext selected, entered, proofread, edited, copyright',\n",
              " 'searched and analyzed, the copyright letters written, etc.  This',\n",
              " 'projected audience is one hundred million readers.  If our value',\n",
              " 'per text is nominally estimated at one dollar, then we produce 2',\n",
              " 'million dollars per hour this year we, will have to do four text',\n",
              " 'files per month:  thus upping our productivity from one million.',\n",
              " 'The Goal of Project Gutenberg is to Give Away One Trillion Etext',\n",
              " 'Files by the December 31, 2001.  [10,000 x 100,000,000=Trillion]',\n",
              " 'This is ten thousand titles each to one hundred million readers,',\n",
              " 'which is 10% of the expected number of computer users by the end',\n",
              " 'of the year 2001.',\n",
              " '',\n",
              " 'We need your donations more than ever!',\n",
              " '',\n",
              " 'All donations should be made to \"Project Gutenberg/CMU\", and are',\n",
              " 'tax deductible to the extent allowable by law (\"CMU\" is Carnegie',\n",
              " 'Mellon University).',\n",
              " '',\n",
              " 'Please mail to:']"
            ]
          },
          "metadata": {},
          "execution_count": 36
        }
      ],
      "source": [
        "from pyspark import SparkFiles\n",
        "import string\n",
        "\n",
        "url_RomeoJuliet= \"https://www.gutenberg.org/cache/epub/1112/pg1112.txt\"\n",
        "url_Hamlet= \"https://www.gutenberg.org/files/1524/1524-0.txt\"\n",
        "url_RichardII=\"https://www.gutenberg.org/cache/epub/1776/pg1776.txt\"\n",
        "\n",
        "spark.sparkContext.addFile(url_Hamlet)\n",
        "spark.sparkContext.addFile(url_RomeoJuliet)\n",
        "spark.sparkContext.addFile(url_RichardII)\n",
        "\n",
        "shakespeare1_rdd=sc.textFile(SparkFiles.get(\"pg1112.txt\"))\n",
        "shakespeare1_rdd.take(100)\n",
        "\n",
        "shakespeare2_rdd=sc.textFile(SparkFiles.get(\"1524-0.txt\"))\n",
        "shakespeare2_rdd.take(100)\n",
        "\n",
        "shakespeare3_rdd=sc.textFile(SparkFiles.get(\"pg1776.txt\"))\n",
        "shakespeare3_rdd.take(100)"
      ]
    },
    {
      "cell_type": "code",
      "execution_count": null,
      "metadata": {
        "id": "qZS4cd98kwmF"
      },
      "outputs": [],
      "source": [
        "import string\n",
        "def lower_clean_str(str):\n",
        "  return str.translate(str.maketrans('','',string.punctuation)).lower()\n",
        "\n",
        "#More verbose\n",
        "#def lower_clear _str(str):\n",
        "#  punc='!\"#$%\\'()*+,./:;<=>?@'\n",
        "# lowercased_str = str.lower()\n",
        "# for ch in punc:\n",
        "#   lowercased_str = lowercased_str.replace(ch,'')\n",
        "#  return lowercased_str"
      ]
    },
    {
      "cell_type": "code",
      "execution_count": null,
      "metadata": {
        "colab": {
          "base_uri": "https://localhost:8080/"
        },
        "id": "vqOujCR1rmc8",
        "outputId": "2c9fdbf7-f496-410b-f37b-836457fc0240"
      },
      "outputs": [
        {
          "output_type": "execute_result",
          "data": {
            "text/plain": [
              "['the project gutenberg ebook of king richard ii',\n",
              " '    ',\n",
              " 'this ebook is for the use of anyone anywhere in the united states and',\n",
              " 'most other parts of the world at no cost and with almost no restrictions',\n",
              " 'whatsoever you may copy it give it away or reuse it under the terms',\n",
              " 'of the project gutenberg license included with this ebook or online',\n",
              " 'at wwwgutenbergorg if you are not located in the united states',\n",
              " 'you will have to check the laws of the country where you are located',\n",
              " 'before using this ebook',\n",
              " 'title king richard ii',\n",
              " 'author william shakespeare',\n",
              " 'release date june 1 1999 ebook 1776',\n",
              " '                most recently updated april 2 2015',\n",
              " 'language english',\n",
              " ' start of the project gutenberg ebook king richard ii ',\n",
              " 'this etext file is presented by project gutenberg in',\n",
              " 'cooperation with world library inc from their library of the',\n",
              " 'future and shakespeare cdroms  project gutenberg often releases',\n",
              " 'etexts that are not placed in the public domain',\n",
              " 'this etext has certain copyright implications you should read',\n",
              " 'this electronic version of the complete works of william',\n",
              " 'shakespeare is copyright 19901993 by world library inc and is',\n",
              " 'provided by project gutenberg with permission  electronic and',\n",
              " 'machine readable copies may be distributed so long as such copies',\n",
              " '1 are for your or others personal use only and 2 are not',\n",
              " 'distributed or used commercially  prohibited commercial',\n",
              " 'distribution includes by any service that charges for download',\n",
              " 'time or for membership',\n",
              " 'project gutenberg is proud to cooperate with the world library',\n",
              " 'in the presentation of the complete works of william shakespeare',\n",
              " 'for your reading for education and entertainment  however this',\n",
              " 'is neither shareware nor public domain  and under the library',\n",
              " 'of the future conditions of this presentation  no charges may',\n",
              " 'be made for any access to this material  you are encouraged',\n",
              " 'to give it away to anyone you like but no charges are allowed',\n",
              " 'welcome to the world of free plain vanilla electronic texts',\n",
              " 'etexts readable by both humans and by computers since 1971',\n",
              " 'these etexts prepared by hundreds of volunteers and donations',\n",
              " 'information on contacting project gutenberg to get etexts and',\n",
              " 'further information is included below  we need your donations']"
            ]
          },
          "metadata": {},
          "execution_count": 38
        }
      ],
      "source": [
        "shakespeare1_rdd = shakespeare1_rdd.map(lower_clean_str).filter(lambda x: len(x) > 0)\n",
        "shakespeare1_rdd.take(40)\n",
        "\n",
        "shakespeare2_rdd = shakespeare2_rdd.map(lower_clean_str).filter(lambda x: len(x) > 0)\n",
        "shakespeare2_rdd.take(40)\n",
        "\n",
        "shakespeare3_rdd = shakespeare3_rdd.map(lower_clean_str).filter(lambda x: len(x) > 0)\n",
        "shakespeare3_rdd.take(40)"
      ]
    },
    {
      "cell_type": "code",
      "execution_count": null,
      "metadata": {
        "colab": {
          "base_uri": "https://localhost:8080/"
        },
        "id": "c5apGF6ivSJ0",
        "outputId": "00e8ebf6-a9ad-45ce-863d-2f3dc2651cc4"
      },
      "outputs": [
        {
          "output_type": "execute_result",
          "data": {
            "text/plain": [
              "[('project', 109),\n",
              " ('gutenberg', 47),\n",
              " ('ebook', 13),\n",
              " ('of', 749),\n",
              " ('king', 259),\n",
              " ('this', 249),\n",
              " ('is', 318),\n",
              " ('use', 25),\n",
              " ('anyone', 6),\n",
              " ('anywhere', 2),\n",
              " ('in', 366),\n",
              " ('united', 15),\n",
              " ('other', 41),\n",
              " ('world', 33),\n",
              " ('at', 82),\n",
              " ('no', 109),\n",
              " ('restrictions', 2),\n",
              " ('whatsoever', 2),\n",
              " ('may', 84),\n",
              " ('give', 38),\n",
              " ('away', 30),\n",
              " ('reuse', 2),\n",
              " ('online', 4),\n",
              " ('are', 132),\n",
              " ('have', 145),\n",
              " ('check', 6),\n",
              " ('country', 5),\n",
              " ('where', 42),\n",
              " ('before', 23),\n",
              " ('using', 6),\n",
              " ('title', 7),\n",
              " ('shakespeare', 18),\n",
              " ('june', 2),\n",
              " ('april', 1),\n",
              " ('language', 2),\n",
              " ('start', 3),\n",
              " ('presented', 1),\n",
              " ('cooperation', 1),\n",
              " ('library', 17),\n",
              " ('inc', 11)]"
            ]
          },
          "metadata": {},
          "execution_count": 39
        }
      ],
      "source": [
        "# Grouping words and counting them\n",
        "\n",
        "import re\n",
        "\n",
        "words1_rdd = shakespeare1_rdd.flatMap(lambda line: line.split(' ')).filter(lambda x: re.match('[a-z]+',x))\n",
        "count1_rdd = words1_rdd.map(lambda word: (word, 1)).reduceByKey(lambda a, b: a + b)\n",
        "count1_rdd.take(40)\n",
        "\n",
        "words2_rdd = shakespeare2_rdd.flatMap(lambda line: line.split(' ')).filter(lambda x: re.match('[a-z]+',x))\n",
        "count2_rdd = words2_rdd.map(lambda word: (word, 1)).reduceByKey(lambda a, b: a + b)\n",
        "count2_rdd.take(40)\n",
        "\n",
        "words3_rdd = shakespeare3_rdd.flatMap(lambda line: line.split(' ')).filter(lambda x: re.match('[a-z]+',x))\n",
        "count3_rdd = words3_rdd.map(lambda word: (word, 1)).reduceByKey(lambda a, b: a + b)\n",
        "count3_rdd.take(40)"
      ]
    },
    {
      "cell_type": "code",
      "execution_count": null,
      "metadata": {
        "colab": {
          "base_uri": "https://localhost:8080/"
        },
        "id": "Hs6i5Ta--oQC",
        "outputId": "40d6ecd0-5ab1-4221-aee5-57486c91f117"
      },
      "outputs": [
        {
          "output_type": "stream",
          "name": "stderr",
          "text": [
            "[nltk_data] Downloading package stopwords to /root/nltk_data...\n",
            "[nltk_data]   Package stopwords is already up-to-date!\n"
          ]
        }
      ],
      "source": [
        "# Removing stopwords\n",
        "\n",
        "import nltk\n",
        "nltk.download('stopwords')\n",
        "from nltk.corpus import stopwords\n",
        "\n",
        "stopwords = stopwords.words('english')\n",
        "\n",
        "def filter_stopwords(word):\n",
        "    return word not in stopwords\n",
        "\n",
        "all_documents_rdd = shakespeare1_rdd.union(shakespeare2_rdd).union(shakespeare3_rdd)\n",
        "wordsall_rdd = all_documents_rdd.flatMap(lambda line: line.split(' ')).filter(lambda x: re.match('[a-z]+',x)).filter(filter_stopwords)\n",
        "countstopall_rdd = wordsall_rdd.map(lambda word: (word, 1)).reduceByKey(lambda a, b: a + b)\n",
        "countstopall_rdd.take(40)\n",
        "\n",
        "df = spark.createDataFrame(countstopall_rdd, ['word','count'])\n",
        "df.collect()\n",
        "!rm -rf \"./stopwords_output.csv\"\n",
        "df.write.csv(\"stopwords_output.csv\", header=True)"
      ]
    },
    {
      "cell_type": "code",
      "execution_count": 45,
      "metadata": {
        "colab": {
          "base_uri": "https://localhost:8080/"
        },
        "id": "Fp5ZS7HtDtiT",
        "outputId": "76d7c2bd-9f41-4a40-c7f4-979fc7cbc893"
      },
      "outputs": [
        {
          "output_type": "execute_result",
          "data": {
            "text/plain": [
              "[(0, 'project', 'doc2, doc1, doc3'),\n",
              " (1, 'gutenberg', 'doc2, doc1, doc3'),\n",
              " (2, 'ebook', 'doc2, doc1, doc3'),\n",
              " (3, 'shakespeare', 'doc2, doc1, doc3'),\n",
              " (4, 'use', 'doc2, doc1, doc3'),\n",
              " (5, 'anyone', 'doc2, doc1, doc3'),\n",
              " (6, 'anywhere', 'doc2, doc1, doc3'),\n",
              " (7, 'united', 'doc2, doc1, doc3'),\n",
              " (8, 'world', 'doc2, doc1, doc3'),\n",
              " (9, 'restrictions', 'doc2, doc1, doc3'),\n",
              " (10, 'whatsoever', 'doc2, doc1, doc3'),\n",
              " (11, 'may', 'doc2, doc1, doc3'),\n",
              " (12, 'give', 'doc2, doc1, doc3'),\n",
              " (13, 'away', 'doc2, doc1, doc3'),\n",
              " (14, 'reuse', 'doc2, doc1, doc3'),\n",
              " (15, 'online', 'doc2, doc1, doc3'),\n",
              " (16, 'check', 'doc2, doc1, doc3'),\n",
              " (17, 'country', 'doc2, doc1, doc3'),\n",
              " (18, 'using', 'doc2, doc1, doc3'),\n",
              " (19, 'title', 'doc2, doc1, doc3'),\n",
              " (20, 'language', 'doc2, doc1, doc3'),\n",
              " (21, 'produced', 'doc2, doc1, doc3'),\n",
              " (22, 'dianne', 'doc2'),\n",
              " (23, 'bean', 'doc2'),\n",
              " (24, 'start', 'doc2, doc1, doc3'),\n",
              " (25, 'tragedy', 'doc2, doc1'),\n",
              " (26, 'prince', 'doc2, doc1, doc3'),\n",
              " (27, 'denmark', 'doc2'),\n",
              " (28, 'contents', 'doc2, doc3'),\n",
              " (29, 'act', 'doc2, doc1, doc3'),\n",
              " (30, 'scene', 'doc2, doc3'),\n",
              " (31, 'elsinore', 'doc2'),\n",
              " (32, 'platform', 'doc2'),\n",
              " (33, 'room', 'doc2, doc3'),\n",
              " (34, 'state', 'doc2, doc1, doc3'),\n",
              " (35, 'iii', 'doc2'),\n",
              " (36, 'house', 'doc2, doc1, doc3'),\n",
              " (37, 'iv', 'doc2, doc3'),\n",
              " (38, 'remote', 'doc2'),\n",
              " (39, 'vi', 'doc2')]"
            ]
          },
          "metadata": {},
          "execution_count": 45
        }
      ],
      "source": [
        "# Grouping words and applying a label on them\n",
        "\n",
        "\n",
        "document1_words_rdd = words1_rdd.filter(filter_stopwords).map(lambda word: (word,'doc1')).reduceByKey(lambda a, b: a)\n",
        "document2_words_rdd = words2_rdd.filter(filter_stopwords).map(lambda word: (word,'doc2')).reduceByKey(lambda a, b: a)\n",
        "document3_words_rdd = words3_rdd.filter(filter_stopwords).map(lambda word: (word,'doc3')).reduceByKey(lambda a, b: a)\n",
        "\n",
        "documents_labeled_rdd = document1_words_rdd.union(document2_words_rdd).union(document3_words_rdd).distinct()\n",
        "index_rdd = documents_labeled_rdd.reduceByKey(lambda a, b: a +\", \"+b).zipWithIndex()\n",
        "documents2_words_rdd = index_rdd.map(lambda word: (word[1], word[0][0],word[0][1]))\n",
        "\n",
        "\n",
        "documents2_words_rdd.take(40)"
      ]
    }
  ],
  "metadata": {
    "colab": {
      "provenance": []
    },
    "kernelspec": {
      "display_name": "Python 3",
      "name": "python3"
    },
    "language_info": {
      "name": "python"
    }
  },
  "nbformat": 4,
  "nbformat_minor": 0
}